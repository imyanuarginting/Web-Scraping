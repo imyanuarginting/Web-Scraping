{
 "cells": [
  {
   "cell_type": "code",
   "execution_count": null,
   "metadata": {},
   "outputs": [],
   "source": [
    "# INSTAGRAM ACCOUNT\n",
    "USERNAME = 'username'\n",
    "PASSWORD = 'password'"
   ]
  },
  {
   "cell_type": "code",
   "execution_count": null,
   "metadata": {},
   "outputs": [],
   "source": [
    "# RUN PROGRAM IN LOCAL ENVIRONMENT\n",
    "\n",
    "from selenium.webdriver.chrome.service import Service\n",
    "from webdriver_manager.chrome import ChromeDriverManager\n",
    "from selenium import webdriver\n",
    "from selenium.webdriver.common.by import By\n",
    "import time\n",
    "import pandas as pd\n",
    "\n",
    "service = Service(ChromeDriverManager().install())\n",
    "driver = webdriver.Chrome(service=service)\n",
    "driver.get(\"https://www.instagram.com/\")\n",
    "\n",
    "time.sleep(5)\n",
    "username = driver.find_element(By.CSS_SELECTOR, \"input[name='username']\")\n",
    "password = driver.find_element(By.CSS_SELECTOR, \"input[name='password']\")\n",
    "username.clear()\n",
    "password.clear()\n",
    "username.send_keys(USERNAME)\n",
    "password.send_keys(PASSWORD)\n",
    "login = driver.find_element(By.CSS_SELECTOR,\"button[type='submit']\")\n",
    "login.click()\n",
    "\n",
    "time.sleep(5)\n",
    "not_now = driver.find_element(By.XPATH, '//div[@class=\"x1i10hfl xjqpnuy xa49m3k xqeqjp1 x2hbi6w xdl72j9 x2lah0s xe8uvvx xdj266r x11i5rnm xat24cr x1mh8g0r x2lwn1j xeuugli x1hl2dhg xggy1nq x1ja2u2z x1t137rt x1q0g3np x1lku1pv x1a2a7pz x6s0dn4 xjyslct x1ejq31n xd10rxx x1sy0etr x17r0tee x9f619 x1ypdohk x1f6kntn xwhw2v2 xl56j7k x17ydfre x2b8uid xlyipyv x87ps6o x14atkfc xcdnw81 x1i0vuye xjbqb8w xm3z3ea x1x8b98j x131883w x16mih1h x972fbf xcfux6l x1qhh985 xm0m39n xt0psk2 xt7dq6l xexx8yu x4uap5 x18d9i69 xkhd6sd x1n2onr6 x1n5bzlp x173jzuc x1yc6y37\"][@role=\"button\"][@tabindex=\"0\"]')\n",
    "not_now.click()\n",
    "\n",
    "time.sleep(5)\n",
    "user_profile = driver.find_element(By.XPATH, '//a[@class=\"x1i10hfl xjbqb8w x1ejq31n xd10rxx x1sy0etr x17r0tee x972fbf xcfux6l x1qhh985 xm0m39n x9f619 x1ypdohk xt0psk2 xe8uvvx xdj266r x11i5rnm xat24cr x1mh8g0r xexx8yu x4uap5 x18d9i69 xkhd6sd x16tdsg8 x1hl2dhg xggy1nq x1a2a7pz _a6hd\"][@href=\"/imgittinsjean/\"][@role=\"link\"][@tabindex=\"0\"]')\n",
    "user_profile.click()\n",
    "\n",
    "time.sleep(5)\n",
    "bookmarks = driver.find_element(By.XPATH, '//a[@aria-selected=\"false\"][@class=\"x1i10hfl xjbqb8w x1ejq31n xd10rxx x1sy0etr x17r0tee x972fbf xcfux6l x1qhh985 xm0m39n x9f619 x1ypdohk xt0psk2 xe8uvvx xdj266r x11i5rnm xat24cr x1mh8g0r xexx8yu x4uap5 x18d9i69 xkhd6sd x16tdsg8 x1hl2dhg xggy1nq x1a2a7pz _aa-z _ap3g _a6hd\"][@href=\"/imgittinsjean/saved/\"][@role=\"tab\"][@tabindex=\"0\"]')\n",
    "bookmarks.click()\n",
    "\n",
    "time.sleep(5)\n",
    "all_posts = driver.find_element(By.XPATH, '//a[@aria-label=\"All posts\"][@class=\"x1i10hfl xjbqb8w x1ejq31n xd10rxx x1sy0etr x17r0tee x972fbf xcfux6l x1qhh985 xm0m39n x9f619 x1ypdohk xt0psk2 xe8uvvx xdj266r x11i5rnm xat24cr x1mh8g0r xexx8yu x4uap5 x18d9i69 xkhd6sd x16tdsg8 x1hl2dhg xggy1nq x1a2a7pz _a6hd\"][@href=\"/imgittinsjean/saved/all-posts/\"][@role=\"link\"][@tabindex=\"0\"]')\n",
    "all_posts.click()\n",
    "\n",
    "time.sleep(5)\n",
    "selected_post = driver.find_element(By.XPATH, '//a[@class=\"x1i10hfl xjbqb8w x1ejq31n xd10rxx x1sy0etr x17r0tee x972fbf xcfux6l x1qhh985 xm0m39n x9f619 x1ypdohk xt0psk2 xe8uvvx xdj266r x11i5rnm xat24cr x1mh8g0r xexx8yu x4uap5 x18d9i69 xkhd6sd x16tdsg8 x1hl2dhg xggy1nq x1a2a7pz _a6hd\"][@href=\"/p/DHa0esKJ-Ok/\"][@role=\"link\"][@tabindex=\"0\"]')\n",
    "selected_post.click()\n",
    "\n",
    "# for i in range(0, 50):\n",
    "#     time.sleep(15)\n",
    "#     driver.find_element(By.CSS_SELECTOR, 'svg[aria-label=\"Load more comments\"]').click()\n",
    "\n",
    "while True:\n",
    "    try:\n",
    "        time.sleep(15)\n",
    "        load_more = driver.find_element(By.CSS_SELECTOR, 'svg[aria-label=\"Load more comments\"]').click()\n",
    "    except:\n",
    "        print(\"No button 'Load more comments' again.\")\n",
    "        break\n",
    "\n",
    "time.sleep(5)\n",
    "comments = driver.find_elements(By.XPATH, '//span[@class=\"_ap3a _aaco _aacu _aacx _aad7 _aade\"][@dir=\"auto\"]')\n",
    "comments_text = [comment.text for comment in comments]\n",
    "\n",
    "comments_df = pd.DataFrame(comments_text, columns=['comment'])"
   ]
  },
  {
   "cell_type": "code",
   "execution_count": 8,
   "metadata": {},
   "outputs": [
    {
     "name": "stdout",
     "output_type": "stream",
     "text": [
      "(713, 1)\n"
     ]
    },
    {
     "data": {
      "text/html": [
       "<div>\n",
       "<style scoped>\n",
       "    .dataframe tbody tr th:only-of-type {\n",
       "        vertical-align: middle;\n",
       "    }\n",
       "\n",
       "    .dataframe tbody tr th {\n",
       "        vertical-align: top;\n",
       "    }\n",
       "\n",
       "    .dataframe thead th {\n",
       "        text-align: right;\n",
       "    }\n",
       "</style>\n",
       "<table border=\"1\" class=\"dataframe\">\n",
       "  <thead>\n",
       "    <tr style=\"text-align: right;\">\n",
       "      <th></th>\n",
       "      <th>comment</th>\n",
       "    </tr>\n",
       "  </thead>\n",
       "  <tbody>\n",
       "    <tr>\n",
       "      <th>637</th>\n",
       "      <td>Wkwkwwkwkwwk</td>\n",
       "    </tr>\n",
       "    <tr>\n",
       "      <th>213</th>\n",
       "      <td>Sedang menunggu perlawanan bahrain besok 👏🤣</td>\n",
       "    </tr>\n",
       "    <tr>\n",
       "      <th>330</th>\n",
       "      <td>Udah tau kan kenpa STY cari pemain belakang terus!!!! dan udah tau kan kenapa STY slalu main ga berani nyerang total iya itu udah terjawab di pertandingan ini!!!!</td>\n",
       "    </tr>\n",
       "    <tr>\n",
       "      <th>82</th>\n",
       "      <td>Puas</td>\n",
       "    </tr>\n",
       "    <tr>\n",
       "      <th>131</th>\n",
       "      <td>🤣</td>\n",
       "    </tr>\n",
       "  </tbody>\n",
       "</table>\n",
       "</div>"
      ],
      "text/plain": [
       "                                                                                                                                                                comment\n",
       "637                                                                                                                                                        Wkwkwwkwkwwk\n",
       "213                                                                                                                         Sedang menunggu perlawanan bahrain besok 👏🤣\n",
       "330  Udah tau kan kenpa STY cari pemain belakang terus!!!! dan udah tau kan kenapa STY slalu main ga berani nyerang total iya itu udah terjawab di pertandingan ini!!!!\n",
       "82                                                                                                                                                                 Puas\n",
       "131                                                                                                                                                                   🤣"
      ]
     },
     "execution_count": 8,
     "metadata": {},
     "output_type": "execute_result"
    }
   ],
   "source": [
    "pd.set_option('display.max_colwidth', None)\n",
    "print(comments_df.shape)\n",
    "comments_df.sample(5)"
   ]
  },
  {
   "cell_type": "code",
   "execution_count": 9,
   "metadata": {},
   "outputs": [],
   "source": [
    "comments_df.to_csv('insta_comments.csv', index=False)"
   ]
  }
 ],
 "metadata": {
  "kernelspec": {
   "display_name": "Python 3",
   "language": "python",
   "name": "python3"
  },
  "language_info": {
   "codemirror_mode": {
    "name": "ipython",
    "version": 3
   },
   "file_extension": ".py",
   "mimetype": "text/x-python",
   "name": "python",
   "nbconvert_exporter": "python",
   "pygments_lexer": "ipython3",
   "version": "3.13.0"
  }
 },
 "nbformat": 4,
 "nbformat_minor": 2
}
