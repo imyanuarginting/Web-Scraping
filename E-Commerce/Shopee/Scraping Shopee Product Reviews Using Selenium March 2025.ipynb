{
 "cells": [
  {
   "cell_type": "code",
   "execution_count": null,
   "metadata": {},
   "outputs": [],
   "source": [
    "# SHOPEE ACCOUNT\n",
    "\n",
    "USERNAME = 'yanuarginting@gmail.com'\n",
    "PASSWORD = 'password'"
   ]
  },
  {
   "cell_type": "code",
   "execution_count": 8,
   "metadata": {},
   "outputs": [
    {
     "name": "stdout",
     "output_type": "stream",
     "text": [
      "=== Please complete the CAPTCHA puzzle manually in the browser ===\n",
      "There is no next page\n",
      "(59, 1)\n"
     ]
    }
   ],
   "source": [
    "# RUN PROGRAM IN LOCAL ENVIRONMENT\n",
    "\n",
    "from selenium.webdriver.chrome.service import Service\n",
    "from webdriver_manager.chrome import ChromeDriverManager\n",
    "from selenium import webdriver\n",
    "import undetected_chromedriver as uc\n",
    "from selenium.webdriver.common.by import By\n",
    "import time\n",
    "import random\n",
    "import pandas as pd\n",
    "\n",
    "options = webdriver.ChromeOptions()\n",
    "options.add_argument(\"--disable-blink-features=AutomationControlled\")\n",
    "options.add_argument('--disable-infobars')\n",
    "options.add_argument('--disable-popup-blocking')\n",
    "options.add_argument('--disable-gpu')\n",
    "options.add_argument('--disable-dev-shm-usage')\n",
    "options.add_argument('--no-sandbox')\n",
    "options.add_argument('--start-maximized')\n",
    "driver = uc.Chrome(use_subprocess=True, options=options)\n",
    "driver.get('https://shopee.co.id/Erspo-Timnas-Jersey-Player-Issue-Home-Red-i.1181715907.25771545541/')\n",
    "\n",
    "time.sleep(random.uniform(5, 10))\n",
    "\n",
    "# Access to login page\n",
    "username = driver.find_element(By.CSS_SELECTOR, 'div.YxyuDT input[name=\"loginKey\"]')\n",
    "password = driver.find_element(By.CSS_SELECTOR, 'div.YxyuDT input[name=\"password\"]')\n",
    "\n",
    "username.clear()\n",
    "password.clear()\n",
    "\n",
    "time.sleep(random.uniform(5, 10))\n",
    "\n",
    "username.send_keys(USERNAME)\n",
    "\n",
    "time.sleep(random.uniform(5, 10))\n",
    "\n",
    "password.send_keys(PASSWORD)\n",
    "\n",
    "time.sleep(random.uniform(5, 10))\n",
    "\n",
    "login = driver.find_element(By.CSS_SELECTOR, \"button[class='b5aVaf PVSuiZ Gqupku qz7ctP qxS7lQ Q4KP5g']\")\n",
    "login.click()\n",
    "\n",
    "print(\"=== Please complete the CAPTCHA puzzle manually in the browser ===\")\n",
    "input(\"Once the puzzle has been completed, press ENTER here to continue...\")\n",
    "\n",
    "time.sleep(random.uniform(5, 10))\n",
    "\n",
    "# Click button reviews section\n",
    "reviews_section = driver.find_element(By.CSS_SELECTOR, 'button[class=\"flex e2p50f\"]')\n",
    "reviews_section.click()\n",
    "\n",
    "time.sleep(random.uniform(5, 10))\n",
    "\n",
    "# Click button reviews with comment\n",
    "reviews_with_comment = driver.find_element(By.CSS_SELECTOR, 'div[class=\"product-rating-overview__filter product-rating-overview__filter--active\"]')\n",
    "reviews_with_comment.click()\n",
    "\n",
    "time.sleep(random.uniform(5, 10))\n",
    "\n",
    "reviews_text = []\n",
    "page_number = 0\n",
    "\n",
    "while True:\n",
    "    time.sleep(5)\n",
    "\n",
    "    # Scraping reviews\n",
    "    reviews = driver.find_elements(By.CSS_SELECTOR, 'div[style=\"margin-top: 0.75rem;\"]')\n",
    "\n",
    "    for review in reviews:\n",
    "        reviews_text.append(review.text)\n",
    "\n",
    "    # Move to the next page if reviews are scraped\n",
    "    next_reviews_button = driver.find_element(By.CSS_SELECTOR, 'button[class=\"shopee-icon-button shopee-icon-button--right \"]')\n",
    "            \n",
    "    time.sleep(5)\n",
    "            \n",
    "    next_reviews_button.click()\n",
    "        \n",
    "    page_number += 1\n",
    "\n",
    "    time.sleep(5)\n",
    "\n",
    "    # Number must be changed based on the last page of the product reviews\n",
    "    if page_number == 21:\n",
    "        print(f\"There is no next page\")\n",
    "        break\n",
    "\n",
    "# Set reviews into dataframe\n",
    "reviews_df = pd.DataFrame(reviews_text, columns=['reviews'])\n",
    "print(reviews_df.shape)"
   ]
  },
  {
   "cell_type": "code",
   "execution_count": 9,
   "metadata": {},
   "outputs": [
    {
     "name": "stdout",
     "output_type": "stream",
     "text": [
      "(59, 1)\n"
     ]
    },
    {
     "data": {
      "text/html": [
       "<div>\n",
       "<style scoped>\n",
       "    .dataframe tbody tr th:only-of-type {\n",
       "        vertical-align: middle;\n",
       "    }\n",
       "\n",
       "    .dataframe tbody tr th {\n",
       "        vertical-align: top;\n",
       "    }\n",
       "\n",
       "    .dataframe thead th {\n",
       "        text-align: right;\n",
       "    }\n",
       "</style>\n",
       "<table border=\"1\" class=\"dataframe\">\n",
       "  <thead>\n",
       "    <tr style=\"text-align: right;\">\n",
       "      <th></th>\n",
       "      <th>reviews</th>\n",
       "    </tr>\n",
       "  </thead>\n",
       "  <tbody>\n",
       "    <tr>\n",
       "      <th>23</th>\n",
       "      <td>Jersey Keren , logo garuda bagus banget</td>\n",
       "    </tr>\n",
       "    <tr>\n",
       "      <th>52</th>\n",
       "      <td>Bagus</td>\n",
       "    </tr>\n",
       "    <tr>\n",
       "      <th>18</th>\n",
       "      <td>Sesuai expektasi,hanya sayang tdk ada box dan sertifikat😁</td>\n",
       "    </tr>\n",
       "    <tr>\n",
       "      <th>11</th>\n",
       "      <td>Kualitas bahan memang oke, nyaman dipakai\\nKlo boleh saran, packingnya dibikin agak premium sdkit lah ya, biar sebanding dng harga  brg dan latar belakang barangnya</td>\n",
       "    </tr>\n",
       "    <tr>\n",
       "      <th>15</th>\n",
       "      <td>Worth it, bagus, desain simple, overall emang bagus ini jersey\\ntrims erspo semoga makin berkembang.</td>\n",
       "    </tr>\n",
       "  </tbody>\n",
       "</table>\n",
       "</div>"
      ],
      "text/plain": [
       "                                                                                                                                                                 reviews\n",
       "23                                                                                                                               Jersey Keren , logo garuda bagus banget\n",
       "52                                                                                                                                                                 Bagus\n",
       "18                                                                                                             Sesuai expektasi,hanya sayang tdk ada box dan sertifikat😁\n",
       "11  Kualitas bahan memang oke, nyaman dipakai\\nKlo boleh saran, packingnya dibikin agak premium sdkit lah ya, biar sebanding dng harga  brg dan latar belakang barangnya\n",
       "15                                                                  Worth it, bagus, desain simple, overall emang bagus ini jersey\\ntrims erspo semoga makin berkembang."
      ]
     },
     "execution_count": 9,
     "metadata": {},
     "output_type": "execute_result"
    }
   ],
   "source": [
    "pd.set_option('display.max_colwidth', None)\n",
    "print(reviews_df.shape)\n",
    "reviews_df.sample(5)"
   ]
  },
  {
   "cell_type": "code",
   "execution_count": 10,
   "metadata": {},
   "outputs": [],
   "source": [
    "reviews_df.to_csv('shopee_reviews.csv', index=False, encoding='utf-8')"
   ]
  }
 ],
 "metadata": {
  "kernelspec": {
   "display_name": "Python 3",
   "language": "python",
   "name": "python3"
  },
  "language_info": {
   "codemirror_mode": {
    "name": "ipython",
    "version": 3
   },
   "file_extension": ".py",
   "mimetype": "text/x-python",
   "name": "python",
   "nbconvert_exporter": "python",
   "pygments_lexer": "ipython3",
   "version": "3.13.0"
  }
 },
 "nbformat": 4,
 "nbformat_minor": 2
}
