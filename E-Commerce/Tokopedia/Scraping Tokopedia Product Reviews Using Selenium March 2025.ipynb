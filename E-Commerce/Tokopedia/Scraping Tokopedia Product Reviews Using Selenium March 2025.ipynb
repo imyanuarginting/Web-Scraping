{
 "cells": [
  {
   "cell_type": "code",
   "execution_count": null,
   "metadata": {},
   "outputs": [
    {
     "name": "stdout",
     "output_type": "stream",
     "text": [
      "There is no next page\n"
     ]
    }
   ],
   "source": [
    "# RUN PROGRAM IN LOCAL ENVIRONMENT\n",
    "\n",
    "from selenium.webdriver.chrome.service import Service\n",
    "from webdriver_manager.chrome import ChromeDriverManager\n",
    "from selenium import webdriver\n",
    "from selenium.webdriver.common.by import By\n",
    "import time\n",
    "import random\n",
    "import pandas as pd\n",
    "\n",
    "service = Service(ChromeDriverManager().install())\n",
    "options = webdriver.ChromeOptions()\n",
    "options.add_argument('--start-maximized')\n",
    "driver = webdriver.Chrome(service=service, options=options)\n",
    "driver.get('https://www.tokopedia.com/erspo/erspo-timnas-jersey-player-issue-home-red-3xl-60529/review/')\n",
    "\n",
    "time.sleep(random.uniform(5, 10))\n",
    "\n",
    "# Close ads if displayed\n",
    "try:\n",
    "    close_ad = driver.find_element(By.CSS_SELECTOR, 'div.css-11hzwo5 button[type=\"button\"]')\n",
    "    close_ad.click()\n",
    "except:\n",
    "    print('There is no ads')\n",
    "\n",
    "time.sleep(random.uniform(5, 10))\n",
    "\n",
    "reviews_text = []\n",
    "page_number = 0\n",
    "\n",
    "while True:\n",
    "    time.sleep(random.uniform(5, 10))\n",
    "\n",
    "    # Click 'See More' button if displayed\n",
    "    see_more_buttons = driver.find_elements(By.XPATH, '//button[contains(text(), \"Selengkapnya\")]')\n",
    "\n",
    "    for button in see_more_buttons:\n",
    "        try:\n",
    "            button.click()\n",
    "\n",
    "            time.sleep(random.uniform(5, 10))\n",
    "        except:\n",
    "            pass\n",
    "\n",
    "    time.sleep(random.uniform(5, 10))\n",
    "\n",
    "    # Scraping reviews\n",
    "    reviews = driver.find_elements(By.CSS_SELECTOR, 'span[data-testid=\"lblItemUlasan\"]')\n",
    "\n",
    "    for review in reviews:\n",
    "        reviews_text.append(review.text)\n",
    "\n",
    "    # Move to the next page if reviews are scraped\n",
    "    next_reviews_button = driver.find_element(By.CSS_SELECTOR, 'button[aria-label=\"Laman berikutnya\"]')\n",
    "            \n",
    "    time.sleep(random.uniform(5, 10))\n",
    "            \n",
    "    next_reviews_button.click()\n",
    "        \n",
    "    page_number += 1\n",
    "\n",
    "    time.sleep(random.uniform(5, 10))\n",
    "\n",
    "    # Number must be changed based on the last page of the product reviews\n",
    "    if page_number == 24:\n",
    "        print(f\"There is no next page\")\n",
    "        break\n",
    "\n",
    "# Set reviews into dataframe\n",
    "reviews_df = pd.DataFrame(reviews_text, columns=['reviews'])\n",
    "print(reviews_df.shape)"
   ]
  },
  {
   "cell_type": "code",
   "execution_count": null,
   "metadata": {},
   "outputs": [],
   "source": [
    "# Show reviews into dataframe\n",
    "pd.set_option('display.max_colwidth', None)\n",
    "reviews_df.sample(5)"
   ]
  },
  {
   "cell_type": "code",
   "execution_count": null,
   "metadata": {},
   "outputs": [],
   "source": [
    "# Save reviews into CSV format\n",
    "reviews_df.to_csv('tokopedia_reviews.csv', index=False, encoding='utf-8')"
   ]
  }
 ],
 "metadata": {
  "kernelspec": {
   "display_name": "Python 3",
   "language": "python",
   "name": "python3"
  },
  "language_info": {
   "codemirror_mode": {
    "name": "ipython",
    "version": 3
   },
   "file_extension": ".py",
   "mimetype": "text/x-python",
   "name": "python",
   "nbconvert_exporter": "python",
   "pygments_lexer": "ipython3",
   "version": "3.13.0"
  }
 },
 "nbformat": 4,
 "nbformat_minor": 2
}
