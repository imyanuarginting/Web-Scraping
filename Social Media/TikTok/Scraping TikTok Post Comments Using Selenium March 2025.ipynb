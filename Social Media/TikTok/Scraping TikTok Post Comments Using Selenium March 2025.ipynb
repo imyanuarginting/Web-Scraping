{
 "cells": [
  {
   "cell_type": "code",
   "execution_count": null,
   "metadata": {},
   "outputs": [],
   "source": [
    "from selenium import webdriver\n",
    "import json\n",
    "\n",
    "driver = webdriver.Chrome()\n",
    "driver.get('https://www.tiktok.com/')\n",
    "\n",
    "input('Once login is complete, press ENTER to continue')\n",
    "\n",
    "# Save cookies to log in automatically\n",
    "cookies = driver.get_cookies()\n",
    "with open('tiktok_cookies.json', 'w') as file:\n",
    "    json.dump(cookies, file)\n",
    "\n",
    "print('TikTok cookies saved successfully')"
   ]
  },
  {
   "cell_type": "code",
   "execution_count": null,
   "metadata": {},
   "outputs": [
    {
     "name": "stdout",
     "output_type": "stream",
     "text": [
      "Comment scrolling is complete\n",
      "(683, 1)\n"
     ]
    }
   ],
   "source": [
    "# RUN PROGRAM IN LOCAL ENVIRONMENT\n",
    "\n",
    "from selenium.webdriver.chrome.service import Service\n",
    "from webdriver_manager.chrome import ChromeDriverManager\n",
    "from selenium import webdriver\n",
    "import undetected_chromedriver as uc\n",
    "from selenium.webdriver.common.by import By\n",
    "from selenium.webdriver.common.action_chains import ActionChains\n",
    "import time\n",
    "import random\n",
    "import json\n",
    "import pandas as pd\n",
    "\n",
    "service = Service(ChromeDriverManager().install())\n",
    "options = webdriver.ChromeOptions()\n",
    "options.add_argument('user-agent=Mozilla/5.0 (iPhone; CPU iPhone OS 15_0 like Mac OS X) AppleWebKit/537.36 (KHTML, like Gecko) Chrome/98.0.4758.102 Mobile Safari/537.36')\n",
    "driver = webdriver.Chrome(service=service, options=options)\n",
    "driver.get('https://www.tiktok.com/@timnasindonesia/video/7485727263405722898?lang=en')\n",
    "\n",
    "time.sleep(random.uniform(7, 10))\n",
    "\n",
    "# Using cookies to log in automatically to the TikTok account\n",
    "with open('tiktok_cookies.json', 'r') as file:\n",
    "    cookies = json.load(file)\n",
    "    for cookie in cookies:\n",
    "        driver.add_cookie(cookie)\n",
    "driver.refresh()\n",
    "\n",
    "time.sleep(random.uniform(7, 10))\n",
    "\n",
    "# Access comments\n",
    "access_comments_button = driver.find_element(By.CSS_SELECTOR, 'g[filter=\"url(#Icon_Color-Comment_Shadow_svg__a)\"]')\n",
    "ActionChains(driver).move_to_element(access_comments_button).click().perform()\n",
    "\n",
    "time.sleep(random.uniform(7, 10))\n",
    "\n",
    "# Scrolling comments to load all comments\n",
    "comment_container = driver.find_element(By.CLASS_NAME, 'css-147ti1k-DivCommentListContainer')\n",
    "last_height = driver.execute_script('return arguments[0].scrollHeight;', comment_container)\n",
    "comment_count = 0\n",
    "\n",
    "while True:\n",
    "    driver.execute_script('arguments[0].scrollTop = arguments[0].scrollHeight;', comment_container)\n",
    "    \n",
    "    if comment_count >= 1000:\n",
    "        sleep_time = 15\n",
    "    elif comment_count >= 500:\n",
    "        sleep_time = 10\n",
    "    else:\n",
    "        sleep_time = 5\n",
    "\n",
    "    time.sleep(sleep_time)\n",
    "    \n",
    "    new_height = driver.execute_script('return arguments[0].scrollHeight;', comment_container)\n",
    "    \n",
    "    if new_height == last_height:\n",
    "        break\n",
    "    last_height = new_height\n",
    "\n",
    "    comment_count = len(driver.find_elements(\n",
    "        By.XPATH, \n",
    "        '//p[@data-e2e=\"comment-level-1\"][@class=\"css-1db1lf5-PCommentText emikstp6\"]/span[1]',\n",
    "    ))\n",
    "\n",
    "print('Comment scrolling completed')\n",
    "\n",
    "time.sleep(random.uniform(7, 10))\n",
    "\n",
    "# Scraping comments\n",
    "comments = driver.find_elements(\n",
    "    By.XPATH, \n",
    "    '//p[@data-e2e=\"comment-level-1\"][@class=\"css-1db1lf5-PCommentText emikstp6\"]/span[1]',\n",
    ")\n",
    "\n",
    "# Save comments to list\n",
    "comments_text = [comment.text for comment in comments]\n",
    "\n",
    "# Set comments into dataframe\n",
    "comments_df = pd.DataFrame(comments_text, columns=['comment'])\n",
    "print(comments_df.shape)"
   ]
  },
  {
   "cell_type": "code",
   "execution_count": 4,
   "metadata": {},
   "outputs": [
    {
     "data": {
      "text/html": [
       "<div>\n",
       "<style scoped>\n",
       "    .dataframe tbody tr th:only-of-type {\n",
       "        vertical-align: middle;\n",
       "    }\n",
       "\n",
       "    .dataframe tbody tr th {\n",
       "        vertical-align: top;\n",
       "    }\n",
       "\n",
       "    .dataframe thead th {\n",
       "        text-align: right;\n",
       "    }\n",
       "</style>\n",
       "<table border=\"1\" class=\"dataframe\">\n",
       "  <thead>\n",
       "    <tr style=\"text-align: right;\">\n",
       "      <th></th>\n",
       "      <th>comment</th>\n",
       "    </tr>\n",
       "  </thead>\n",
       "  <tbody>\n",
       "    <tr>\n",
       "      <th>39</th>\n",
       "      <td>emil duluu cobaaaaaa minn, debut in di gbk</td>\n",
       "    </tr>\n",
       "    <tr>\n",
       "      <th>362</th>\n",
       "      <td>lah emilll</td>\n",
       "    </tr>\n",
       "    <tr>\n",
       "      <th>58</th>\n",
       "      <td>tandai gue kalau indonesia menang 3-1</td>\n",
       "    </tr>\n",
       "    <tr>\n",
       "      <th>485</th>\n",
       "      <td>🔥🔥</td>\n",
       "    </tr>\n",
       "    <tr>\n",
       "      <th>441</th>\n",
       "      <td>🤣</td>\n",
       "    </tr>\n",
       "  </tbody>\n",
       "</table>\n",
       "</div>"
      ],
      "text/plain": [
       "                                        comment\n",
       "39   emil duluu cobaaaaaa minn, debut in di gbk\n",
       "362                                  lah emilll\n",
       "58        tandai gue kalau indonesia menang 3-1\n",
       "485                                          🔥🔥\n",
       "441                                           🤣"
      ]
     },
     "execution_count": 4,
     "metadata": {},
     "output_type": "execute_result"
    }
   ],
   "source": [
    "# Show comments into dataframe\n",
    "pd.set_option('display.max_colwidth', None)\n",
    "comments_df.sample(5)"
   ]
  },
  {
   "cell_type": "code",
   "execution_count": 5,
   "metadata": {},
   "outputs": [],
   "source": [
    "# Save comments into CSV format\n",
    "comments_df.to_csv('tiktok_comments.csv', index=False, encoding='utf-8')"
   ]
  }
 ],
 "metadata": {
  "kernelspec": {
   "display_name": "Python 3",
   "language": "python",
   "name": "python3"
  },
  "language_info": {
   "codemirror_mode": {
    "name": "ipython",
    "version": 3
   },
   "file_extension": ".py",
   "mimetype": "text/x-python",
   "name": "python",
   "nbconvert_exporter": "python",
   "pygments_lexer": "ipython3",
   "version": "3.13.0"
  }
 },
 "nbformat": 4,
 "nbformat_minor": 2
}
