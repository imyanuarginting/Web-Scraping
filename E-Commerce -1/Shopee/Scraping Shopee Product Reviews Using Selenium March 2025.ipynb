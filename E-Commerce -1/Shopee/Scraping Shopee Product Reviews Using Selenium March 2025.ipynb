{
 "cells": [
  {
   "cell_type": "code",
   "execution_count": null,
   "metadata": {},
   "outputs": [],
   "source": [
    "# SHOPEE ACCOUNT\n",
    "\n",
    "USERNAME = 'username'\n",
    "PASSWORD = 'password'"
   ]
  },
  {
   "cell_type": "code",
   "execution_count": 8,
   "metadata": {},
   "outputs": [
    {
     "name": "stdout",
     "output_type": "stream",
     "text": [
      "=== Please complete the CAPTCHA puzzle manually in the browser ===\n",
      "There is no next page\n",
      "(59, 1)\n"
     ]
    }
   ],
   "source": [
    "# RUN PROGRAM IN LOCAL ENVIRONMENT\n",
    "\n",
    "from selenium.webdriver.chrome.service import Service\n",
    "from webdriver_manager.chrome import ChromeDriverManager\n",
    "from selenium import webdriver\n",
    "import undetected_chromedriver as uc\n",
    "from selenium.webdriver.common.by import By\n",
    "import time\n",
    "import random\n",
    "import pandas as pd\n",
    "\n",
    "options = webdriver.ChromeOptions()\n",
    "options.add_argument(\"--disable-blink-features=AutomationControlled\")\n",
    "options.add_argument('--disable-infobars')\n",
    "options.add_argument('--disable-popup-blocking')\n",
    "options.add_argument('--disable-gpu')\n",
    "options.add_argument('--disable-dev-shm-usage')\n",
    "options.add_argument('--no-sandbox')\n",
    "options.add_argument('--start-maximized')\n",
    "driver = uc.Chrome(use_subprocess=True, options=options)\n",
    "driver.get('https://shopee.co.id/Erspo-Timnas-Jersey-Player-Issue-Home-Red-i.1181715907.25771545541/')\n",
    "\n",
    "time.sleep(random.uniform(5, 10))\n",
    "\n",
    "# Access to login page\n",
    "username = driver.find_element(By.CSS_SELECTOR, 'div.YxyuDT input[name=\"loginKey\"]')\n",
    "password = driver.find_element(By.CSS_SELECTOR, 'div.YxyuDT input[name=\"password\"]')\n",
    "\n",
    "username.clear()\n",
    "password.clear()\n",
    "\n",
    "time.sleep(random.uniform(5, 10))\n",
    "\n",
    "username.send_keys(USERNAME)\n",
    "\n",
    "time.sleep(random.uniform(5, 10))\n",
    "\n",
    "password.send_keys(PASSWORD)\n",
    "\n",
    "time.sleep(random.uniform(5, 10))\n",
    "\n",
    "login = driver.find_element(By.CSS_SELECTOR, \"button[class='b5aVaf PVSuiZ Gqupku qz7ctP qxS7lQ Q4KP5g']\")\n",
    "login.click()\n",
    "\n",
    "print(\"=== Please complete the CAPTCHA puzzle manually in the browser ===\")\n",
    "input(\"Once the puzzle has been completed, press ENTER here to continue...\")\n",
    "\n",
    "time.sleep(random.uniform(5, 10))\n",
    "\n",
    "# Click button reviews section\n",
    "reviews_section = driver.find_element(By.CSS_SELECTOR, 'button[class=\"flex e2p50f\"]')\n",
    "reviews_section.click()\n",
    "\n",
    "time.sleep(random.uniform(5, 10))\n",
    "\n",
    "# Click button reviews with comment\n",
    "reviews_with_comment = driver.find_element(By.CSS_SELECTOR, 'div[class=\"product-rating-overview__filter product-rating-overview__filter--active\"]')\n",
    "reviews_with_comment.click()\n",
    "\n",
    "time.sleep(random.uniform(5, 10))\n",
    "\n",
    "reviews_text = []\n",
    "page_number = 0\n",
    "\n",
    "while True:\n",
    "    time.sleep(5)\n",
    "\n",
    "    # Scraping reviews\n",
    "    reviews = driver.find_elements(By.CSS_SELECTOR, 'div[style=\"margin-top: 0.75rem;\"]')\n",
    "\n",
    "    for review in reviews:\n",
    "        reviews_text.append(review.text)\n",
    "\n",
    "    # Move to the next page if reviews are scraped\n",
    "    next_reviews_button = driver.find_element(By.CSS_SELECTOR, 'button[class=\"shopee-icon-button shopee-icon-button--right \"]')\n",
    "            \n",
    "    time.sleep(5)\n",
    "            \n",
    "    next_reviews_button.click()\n",
    "        \n",
    "    page_number += 1\n",
    "\n",
    "    time.sleep(5)\n",
    "\n",
    "    # Number must be changed based on the last page of the product reviews\n",
    "    if page_number == 21:\n",
    "        print(f\"There is no next page\")\n",
    "        break\n",
    "\n",
    "# Set reviews into dataframe\n",
    "reviews_df = pd.DataFrame(reviews_text, columns=['reviews'])\n",
    "print(reviews_df.shape)"
   ]
  },
  {
   "cell_type": "code",
   "execution_count": 9,
   "metadata": {},
   "outputs": [
    {
     "name": "stdout",
     "output_type": "stream",
     "text": [
      "(59, 1)\n"
     ]
    },
    {
     "data": {
      "text/html": [
       "<div>\n",
       "<style scoped>\n",
       "    .dataframe tbody tr th:only-of-type {\n",
       "        vertical-align: middle;\n",
       "    }\n",
       "\n",
       "    .dataframe tbody tr th {\n",
       "        vertical-align: top;\n",
       "    }\n",
       "\n",
       "    .dataframe thead th {\n",
       "        text-align: right;\n",
       "    }\n",
       "</style>\n",
       "<table border=\"1\" class=\"dataframe\">\n",
       "  <thead>\n",
       "    <tr style=\"text-align: right;\">\n",
       "      <th></th>\n",
       "      <th>reviews</th>\n",
       "    </tr>\n",
       "  </thead>\n",
       "  <tbody>\n",
       "    <tr>\n",
       "      <th>23</th>\n",
       "      <td>Jersey Keren , logo garuda bagus banget</td>\n",
       "    </tr>\n",
       "    <tr>\n",
       "      <th>52</th>\n",
       "      <td>Bagus</td>\n",
       "    </tr>\n",
       "    <tr>\n",
       "      <th>18</th>\n",
       "      <td>Sesuai expektasi,hanya sayang tdk ada box dan sertifikat😁</td>\n",
       "    </tr>\n",
       "    <tr>\n",
       "      <th>11</th>\n",
       "      <td>Kualitas bahan memang oke, nyaman dipakai\\nKlo boleh saran, packingnya dibikin agak premium sdkit lah ya, biar sebanding dng harga  brg dan latar belakang barangnya</td>\n",
       "    </tr>\n",
       "    <tr>\n",
       "      <th>15</th>\n",
       "      <td>Worth it, bagus, desain simple, overall emang bagus ini jersey\\ntrims erspo semoga makin berkembang.</td>\n",
       "    </tr>\n",
       "  </tbody>\n",
       "</table>\n",
       "</div>"
      ],
      "text/plain": [
       "                                                                                                                                                                 reviews\n",
       "23                                                                                                                               Jersey Keren , logo garuda bagus banget\n",
       "52                                                                                                                                                                 Bagus\n",
       "18                                                                                                             Sesuai expektasi,hanya sayang tdk ada box dan sertifikat😁\n",
       "11  Kualitas bahan memang oke, nyaman dipakai\\nKlo boleh saran, packingnya dibikin agak premium sdkit lah ya, biar sebanding dng harga  brg dan latar belakang barangnya\n",
       "15                                                                  Worth it, bagus, desain simple, overall emang bagus ini jersey\\ntrims erspo semoga makin berkembang."
      ]
     },
     "execution_count": 9,
     "metadata": {},
     "output_type": "execute_result"
    }
   ],
   "source": [
    "pd.set_option('display.max_colwidth', None)\n",
    "print(reviews_df.shape)\n",
    "reviews_df.sample(5)"
   ]
  },
  {
   "cell_type": "code",
   "execution_count": 10,
   "metadata": {},
   "outputs": [],
   "source": [
    "reviews_df.to_csv('shopee_reviews.csv', index=False, encoding='utf-8')"
   ]
  },
  {
   "cell_type": "code",
   "execution_count": 4,
   "metadata": {},
   "outputs": [
    {
     "ename": "NoSuchElementException",
     "evalue": "Message: no such element: Unable to locate element: {\"method\":\"css selector\",\"selector\":\"input[name='loginKey']\"}\n  (Session info: chrome=134.0.6998.177); For documentation on this error, please visit: https://www.selenium.dev/documentation/webdriver/troubleshooting/errors#no-such-element-exception\nStacktrace:\n\tGetHandleVerifier [0x0101C7F3+24435]\n\t(No symbol) [0x00FA2074]\n\t(No symbol) [0x00E706E3]\n\t(No symbol) [0x00EB8B39]\n\t(No symbol) [0x00EB8E8B]\n\t(No symbol) [0x00F01AC2]\n\t(No symbol) [0x00EDD804]\n\t(No symbol) [0x00EFF20A]\n\t(No symbol) [0x00EDD5B6]\n\t(No symbol) [0x00EAC54F]\n\t(No symbol) [0x00EAD894]\n\tGetHandleVerifier [0x013270A3+3213347]\n\tGetHandleVerifier [0x0133B0C9+3295305]\n\tGetHandleVerifier [0x0133558C+3271948]\n\tGetHandleVerifier [0x010B7360+658144]\n\t(No symbol) [0x00FAB27D]\n\t(No symbol) [0x00FA8208]\n\t(No symbol) [0x00FA83A9]\n\t(No symbol) [0x00F9AAC0]\n\tBaseThreadInitThunk [0x75F25D49+25]\n\tRtlInitializeExceptionChain [0x76EBCE3B+107]\n\tRtlGetAppContainerNamedObjectPath [0x76EBCDC1+561]\n",
     "output_type": "error",
     "traceback": [
      "\u001b[31m---------------------------------------------------------------------------\u001b[39m",
      "\u001b[31mNoSuchElementException\u001b[39m                    Traceback (most recent call last)",
      "\u001b[36mCell\u001b[39m\u001b[36m \u001b[39m\u001b[32mIn[4]\u001b[39m\u001b[32m, line 7\u001b[39m\n\u001b[32m      4\u001b[39m driver = webdriver.Chrome(service=service, options=options)\n\u001b[32m      5\u001b[39m driver.get(\u001b[33m'\u001b[39m\u001b[33mhttps://shopee.co.id/Erspo-Timnas-Jersey-Player-Issue-Home-Red-i.1181715907.25771545541/\u001b[39m\u001b[33m'\u001b[39m)\n\u001b[32m----> \u001b[39m\u001b[32m7\u001b[39m username = \u001b[43mdriver\u001b[49m\u001b[43m.\u001b[49m\u001b[43mfind_element\u001b[49m\u001b[43m(\u001b[49m\u001b[43mBy\u001b[49m\u001b[43m.\u001b[49m\u001b[43mCSS_SELECTOR\u001b[49m\u001b[43m,\u001b[49m\u001b[43m \u001b[49m\u001b[33;43m\"\u001b[39;49m\u001b[33;43minput[name=\u001b[39;49m\u001b[33;43m'\u001b[39;49m\u001b[33;43mloginKey\u001b[39;49m\u001b[33;43m'\u001b[39;49m\u001b[33;43m]\u001b[39;49m\u001b[33;43m\"\u001b[39;49m\u001b[43m)\u001b[49m\n\u001b[32m      8\u001b[39m password = driver.find_element(By.CSS_SELECTOR, \u001b[33m\"\u001b[39m\u001b[33minput[name=\u001b[39m\u001b[33m'\u001b[39m\u001b[33mpassword\u001b[39m\u001b[33m'\u001b[39m\u001b[33m]\u001b[39m\u001b[33m\"\u001b[39m)\n\u001b[32m      9\u001b[39m username.clear()\n",
      "\u001b[36mFile \u001b[39m\u001b[32mc:\\Users\\Yanuar Ginting\\AppData\\Local\\Programs\\Python\\Python313\\Lib\\site-packages\\selenium\\webdriver\\remote\\webdriver.py:898\u001b[39m, in \u001b[36mWebDriver.find_element\u001b[39m\u001b[34m(self, by, value)\u001b[39m\n\u001b[32m    895\u001b[39m         \u001b[38;5;28;01mraise\u001b[39;00m NoSuchElementException(\u001b[33mf\u001b[39m\u001b[33m\"\u001b[39m\u001b[33mCannot locate relative element with: \u001b[39m\u001b[38;5;132;01m{\u001b[39;00mby.root\u001b[38;5;132;01m}\u001b[39;00m\u001b[33m\"\u001b[39m)\n\u001b[32m    896\u001b[39m     \u001b[38;5;28;01mreturn\u001b[39;00m elements[\u001b[32m0\u001b[39m]\n\u001b[32m--> \u001b[39m\u001b[32m898\u001b[39m \u001b[38;5;28;01mreturn\u001b[39;00m \u001b[38;5;28;43mself\u001b[39;49m\u001b[43m.\u001b[49m\u001b[43mexecute\u001b[49m\u001b[43m(\u001b[49m\u001b[43mCommand\u001b[49m\u001b[43m.\u001b[49m\u001b[43mFIND_ELEMENT\u001b[49m\u001b[43m,\u001b[49m\u001b[43m \u001b[49m\u001b[43m{\u001b[49m\u001b[33;43m\"\u001b[39;49m\u001b[33;43musing\u001b[39;49m\u001b[33;43m\"\u001b[39;49m\u001b[43m:\u001b[49m\u001b[43m \u001b[49m\u001b[43mby\u001b[49m\u001b[43m,\u001b[49m\u001b[43m \u001b[49m\u001b[33;43m\"\u001b[39;49m\u001b[33;43mvalue\u001b[39;49m\u001b[33;43m\"\u001b[39;49m\u001b[43m:\u001b[49m\u001b[43m \u001b[49m\u001b[43mvalue\u001b[49m\u001b[43m}\u001b[49m\u001b[43m)\u001b[49m[\u001b[33m\"\u001b[39m\u001b[33mvalue\u001b[39m\u001b[33m\"\u001b[39m]\n",
      "\u001b[36mFile \u001b[39m\u001b[32mc:\\Users\\Yanuar Ginting\\AppData\\Local\\Programs\\Python\\Python313\\Lib\\site-packages\\selenium\\webdriver\\remote\\webdriver.py:429\u001b[39m, in \u001b[36mWebDriver.execute\u001b[39m\u001b[34m(self, driver_command, params)\u001b[39m\n\u001b[32m    427\u001b[39m response = \u001b[38;5;28mself\u001b[39m.command_executor.execute(driver_command, params)\n\u001b[32m    428\u001b[39m \u001b[38;5;28;01mif\u001b[39;00m response:\n\u001b[32m--> \u001b[39m\u001b[32m429\u001b[39m     \u001b[38;5;28;43mself\u001b[39;49m\u001b[43m.\u001b[49m\u001b[43merror_handler\u001b[49m\u001b[43m.\u001b[49m\u001b[43mcheck_response\u001b[49m\u001b[43m(\u001b[49m\u001b[43mresponse\u001b[49m\u001b[43m)\u001b[49m\n\u001b[32m    430\u001b[39m     response[\u001b[33m\"\u001b[39m\u001b[33mvalue\u001b[39m\u001b[33m\"\u001b[39m] = \u001b[38;5;28mself\u001b[39m._unwrap_value(response.get(\u001b[33m\"\u001b[39m\u001b[33mvalue\u001b[39m\u001b[33m\"\u001b[39m, \u001b[38;5;28;01mNone\u001b[39;00m))\n\u001b[32m    431\u001b[39m     \u001b[38;5;28;01mreturn\u001b[39;00m response\n",
      "\u001b[36mFile \u001b[39m\u001b[32mc:\\Users\\Yanuar Ginting\\AppData\\Local\\Programs\\Python\\Python313\\Lib\\site-packages\\selenium\\webdriver\\remote\\errorhandler.py:232\u001b[39m, in \u001b[36mErrorHandler.check_response\u001b[39m\u001b[34m(self, response)\u001b[39m\n\u001b[32m    230\u001b[39m         alert_text = value[\u001b[33m\"\u001b[39m\u001b[33malert\u001b[39m\u001b[33m\"\u001b[39m].get(\u001b[33m\"\u001b[39m\u001b[33mtext\u001b[39m\u001b[33m\"\u001b[39m)\n\u001b[32m    231\u001b[39m     \u001b[38;5;28;01mraise\u001b[39;00m exception_class(message, screen, stacktrace, alert_text)  \u001b[38;5;66;03m# type: ignore[call-arg]  # mypy is not smart enough here\u001b[39;00m\n\u001b[32m--> \u001b[39m\u001b[32m232\u001b[39m \u001b[38;5;28;01mraise\u001b[39;00m exception_class(message, screen, stacktrace)\n",
      "\u001b[31mNoSuchElementException\u001b[39m: Message: no such element: Unable to locate element: {\"method\":\"css selector\",\"selector\":\"input[name='loginKey']\"}\n  (Session info: chrome=134.0.6998.177); For documentation on this error, please visit: https://www.selenium.dev/documentation/webdriver/troubleshooting/errors#no-such-element-exception\nStacktrace:\n\tGetHandleVerifier [0x0101C7F3+24435]\n\t(No symbol) [0x00FA2074]\n\t(No symbol) [0x00E706E3]\n\t(No symbol) [0x00EB8B39]\n\t(No symbol) [0x00EB8E8B]\n\t(No symbol) [0x00F01AC2]\n\t(No symbol) [0x00EDD804]\n\t(No symbol) [0x00EFF20A]\n\t(No symbol) [0x00EDD5B6]\n\t(No symbol) [0x00EAC54F]\n\t(No symbol) [0x00EAD894]\n\tGetHandleVerifier [0x013270A3+3213347]\n\tGetHandleVerifier [0x0133B0C9+3295305]\n\tGetHandleVerifier [0x0133558C+3271948]\n\tGetHandleVerifier [0x010B7360+658144]\n\t(No symbol) [0x00FAB27D]\n\t(No symbol) [0x00FA8208]\n\t(No symbol) [0x00FA83A9]\n\t(No symbol) [0x00F9AAC0]\n\tBaseThreadInitThunk [0x75F25D49+25]\n\tRtlInitializeExceptionChain [0x76EBCE3B+107]\n\tRtlGetAppContainerNamedObjectPath [0x76EBCDC1+561]\n"
     ]
    }
   ],
   "source": [
    "service = Service(ChromeDriverManager().install())\n",
    "options = webdriver.ChromeOptions()\n",
    "options.add_argument('--start-maximized')\n",
    "driver = webdriver.Chrome(service=service, options=options)\n",
    "driver.get('https://shopee.co.id/Erspo-Timnas-Jersey-Player-Issue-Home-Red-i.1181715907.25771545541/')\n",
    "\n",
    "username = driver.find_element(By.CSS_SELECTOR, \"input[name='loginKey']\")\n",
    "password = driver.find_element(By.CSS_SELECTOR, \"input[name='password']\")\n",
    "username.clear()\n",
    "password.clear()\n",
    "time.sleep(random.uniform(5, 10))\n",
    "username.send_keys(USERNAME)\n",
    "time.sleep(random.uniform(5, 10))\n",
    "password.send_keys(PASSWORD)\n",
    "time.sleep(random.uniform(5, 10))\n",
    "login = driver.find_element(By.CSS_SELECTOR, \"button[class='b5aVaf PVSuiZ Gqupku qz7ctP qxS7lQ Q4KP5g']\")\n",
    "login.click()\n",
    "\n"
   ]
  }
 ],
 "metadata": {
  "kernelspec": {
   "display_name": "Python 3",
   "language": "python",
   "name": "python3"
  },
  "language_info": {
   "codemirror_mode": {
    "name": "ipython",
    "version": 3
   },
   "file_extension": ".py",
   "mimetype": "text/x-python",
   "name": "python",
   "nbconvert_exporter": "python",
   "pygments_lexer": "ipython3",
   "version": "3.13.0"
  }
 },
 "nbformat": 4,
 "nbformat_minor": 2
}
